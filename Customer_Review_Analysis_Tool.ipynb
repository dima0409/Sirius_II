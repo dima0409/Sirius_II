{
  "nbformat": 4,
  "nbformat_minor": 0,
  "metadata": {
    "colab": {
      "provenance": []
    },
    "kernelspec": {
      "name": "python3",
      "display_name": "Python 3"
    },
    "language_info": {
      "name": "python"
    }
  },
  "cells": [
    {
      "cell_type": "markdown",
      "source": [
        "# Парсинг сайта banki.ru"
      ],
      "metadata": {
        "id": "xPGRzuhsz3XY"
      }
    },
    {
      "cell_type": "code",
      "execution_count": 76,
      "metadata": {
        "id": "-45RZJC4UJqT"
      },
      "outputs": [],
      "source": [
        "import pandas as pd\n",
        "import requests\n",
        "from bs4 import BeautifulSoup\n",
        "import json\n",
        "import html\n",
        "import re\n",
        "import time\n",
        "import random\n",
        "import csv"
      ]
    },
    {
      "cell_type": "code",
      "source": [
        "def parse_reviews(url):\n",
        "    headers = {'User-Agent': 'Mozilla/5.0 (Windows NT 10.0; Win64; x64) AppleWebKit/537.36 (KHTML, like Gecko) Chrome/58.0.3029.110 Safari/537.3'}\n",
        "    response = requests.get(url, headers=headers)\n",
        "\n",
        "    soup = BeautifulSoup(response.text, 'html.parser') # парсим ответ как HTML\n",
        "    script_tag = soup.select_one(\"body > div.page-container > main.page-container__body > script[type='application/ld+json']\") # выбираем элемент скрипта с отзывами\n",
        "    text = script_tag.string.replace('\\r', '') # убираем все символы возврата к началу строки\n",
        "    text = text.replace('\\r', '') # убираем все символы возврата к началу строки\n",
        "    text = re.sub(r'\\n+|\\t| ', ' ', text) # заменяем на пробел переносы строки (1 или несколько подряд), табуляцию и неразрывный пробел\n",
        "\n",
        "    json_data = json.loads(text) # парсим результат как JSON\n",
        "    reviews = json_data[\"review\"] # сами отзывы находятся в review\n",
        "\n",
        "    data = []\n",
        "    for review in reviews:\n",
        "        text = html.unescape(review[\"description\"]) # раскодируем специальные символы (например, &quot; становится \")\n",
        "        date = review[\"datePublished\"]\n",
        "\n",
        "        text = BeautifulSoup(text, 'html.parser').get_text() # сам отзыв у нас тоже в HTML, парсим заново и берём только текст (без разметки)\n",
        "        text = re.compile(\"[\" # убираем эмодзи (определённые диапазоны Юникода)\n",
        "               \"\\U0001F600-\\U0001F64F\"  # emoticons\n",
        "               \"\\U0001F300-\\U0001F5FF\"  # symbols & pictographs\n",
        "               \"\\U0001F680-\\U0001F6FF\"  # transport & map symbols\n",
        "               \"\\U0001F1E0-\\U0001F1FF\"  # flags (iOS)\n",
        "               \"\\U00002500-\\U00002BEF\"  # chinese char\n",
        "               \"\\U00002702-\\U000027B0\"\n",
        "               \"\\U00002702-\\U000027B0\"\n",
        "               \"\\U000024C2-\\U0001F251\"\n",
        "               \"\\U0001f926-\\U0001f937\"\n",
        "               \"\\U00010000-\\U0010ffff\"\n",
        "               \"\\u2640-\\u2642\"\n",
        "               \"\\u2600-\\u2B55\"\n",
        "               \"\\u200d\"\n",
        "               \"\\u23cf\"\n",
        "               \"\\u23e9\"\n",
        "               \"\\u231a\"\n",
        "               \"\\ufe0f\"  # dingbats\n",
        "               \"\\u3030\"\n",
        "               \"]+\", flags=re.UNICODE).sub(r'', text)\n",
        "\n",
        "        #print(f\"Отзыв: {text}\\nДата: {date}\\n---\")\n",
        "        data.append([text, date])\n",
        "\n",
        "    return data\n",
        "\n",
        "data = parse_reviews(\"https://www.banki.ru/services/responses/bank/tcs/?type=all\")\n",
        "df = pd.DataFrame(data, columns=[\"Review\", \"Date\",])  # создаем DataFrame из данных\n",
        "df.to_csv(\"reviews.csv\", index=False, encoding='utf-8')  # записываем DataFrame в CSV-файл"
      ],
      "metadata": {
        "id": "HUvy82QdL6Kv"
      },
      "execution_count": 77,
      "outputs": []
    },
    {
      "cell_type": "markdown",
      "source": [
        "# Предварительная обработка отзывов"
      ],
      "metadata": {
        "id": "QoaBr6Aty4FU"
      }
    },
    {
      "cell_type": "code",
      "source": [
        "import nltk\n",
        "from nltk.corpus import stopwords\n",
        "from nltk.stem import WordNetLemmatizer\n",
        "import string"
      ],
      "metadata": {
        "id": "y2WjEM1Evdb4"
      },
      "execution_count": 78,
      "outputs": []
    },
    {
      "cell_type": "code",
      "source": [
        "# Загрузка стоп-слов и инициализация лемматизатора\n",
        "nltk.download('stopwords')\n",
        "nltk.download('wordnet')\n",
        "stop_words = set(stopwords.words('russian'))\n",
        "lemmatizer = WordNetLemmatizer()\n",
        "\n",
        "def preprocess_review(review):\n",
        "    # Преобразование в нижний регистр\n",
        "    review = review.lower()\n",
        "    # Удаление пунктуации\n",
        "    review = review.translate(str.maketrans('', '', string.punctuation))\n",
        "    # Лемматизация и удаление стоп-слов\n",
        "    review = [lemmatizer.lemmatize(word) for word in review.split() if word not in stop_words]\n",
        "    return ' '.join(review)\n",
        "\n",
        "data = []\n",
        "with open('reviews.csv', 'r', encoding='utf-8') as f:\n",
        "    reader = csv.reader(f)\n",
        "    next(reader)  # Пропуск заголовка\n",
        "    for row in reader:\n",
        "        review, date = row\n",
        "        review = preprocess_review(review)\n",
        "        data.append([review, date])\n",
        "\n",
        "# Запись обработанных данных обратно в CSV\n",
        "df = pd.DataFrame(data, columns=[\"Review\", \"Date\",])  # создаем DataFrame из данных\n",
        "df.to_csv(\"processed_reviews.csv\", index=False, encoding='utf-8')  # записываем DataFrame в CSV-файл\n"
      ],
      "metadata": {
        "colab": {
          "base_uri": "https://localhost:8080/"
        },
        "id": "dgVdwznrQo-t",
        "outputId": "cf79fb56-4ffb-4bee-b635-ba06219ac584"
      },
      "execution_count": 79,
      "outputs": [
        {
          "output_type": "stream",
          "name": "stderr",
          "text": [
            "[nltk_data] Downloading package stopwords to /root/nltk_data...\n",
            "[nltk_data]   Package stopwords is already up-to-date!\n",
            "[nltk_data] Downloading package wordnet to /root/nltk_data...\n",
            "[nltk_data]   Package wordnet is already up-to-date!\n"
          ]
        }
      ]
    },
    {
      "cell_type": "markdown",
      "source": [
        "# Преобразование в векторное представление\n",
        "\n",
        "Краткий обзор каждого векторного представления:\n",
        "\n",
        "**TF-IDF** хорошо работает, когда важно учесть важность слов в документах и во всем корпусе. Он присваивает больший вес редким словам, которые могут быть более информативными, чем часто встречающиеся слова. Однако TF-IDF не учитывает контекст слов и семантические отношения между ними.\n",
        "\n",
        "С другой стороны, **Word2Vec** обучается на основе контекста слов, что позволяет ему улавливать семантические отношения между словами, такие как синонимы, антонимы и ассоциации. Однако Word2Vec может быть более сложным в использовании и требовать больше вычислительных ресурсов.\n",
        "\n",
        "\n",
        "И, в итоге, мы выбрали написать сначала на TF-IDF.\n",
        "\n",
        "\n"
      ],
      "metadata": {
        "id": "iYqP9gvK2y-y"
      }
    },
    {
      "cell_type": "code",
      "source": [
        "from sklearn.feature_extraction.text import TfidfVectorizer\n",
        "import numpy as np"
      ],
      "metadata": {
        "id": "H9OMCI8O7E4n"
      },
      "execution_count": 80,
      "outputs": []
    },
    {
      "cell_type": "code",
      "source": [
        "# Создание объекта TfidfVectorizer\n",
        "vectorizer = TfidfVectorizer()\n",
        "\n",
        "# Преобразование отзывов в векторное представление с помощью TF-IDF\n",
        "tfidf_matrix = vectorizer.fit_transform([review for review, date in data])\n",
        "\n",
        "# Получение списка слов\n",
        "words = vectorizer.get_feature_names_out()\n",
        "\n",
        "# Вычисление среднего значения TF-IDF для каждого слова\n",
        "avg_tfidf = tfidf_matrix.mean(axis=0).A1\n",
        "\n",
        "# Создание словаря, где ключи - это слова, а значения - средние значения TF-IDF\n",
        "word_tfidf_dict = dict(zip(words, avg_tfidf))\n",
        "\n",
        "# Сортировка словаря по значениям в порядке убывания\n",
        "sorted_word_tfidf_dict = dict(sorted(word_tfidf_dict.items(), key=lambda item: item[1], reverse=True))"
      ],
      "metadata": {
        "id": "JZVkzIf28dGQ"
      },
      "execution_count": 81,
      "outputs": []
    },
    {
      "cell_type": "code",
      "source": [
        "tfidf_matrix"
      ],
      "metadata": {
        "colab": {
          "base_uri": "https://localhost:8080/"
        },
        "id": "1olF0kOV91at",
        "outputId": "d0d0704a-81ad-42d7-99b4-0bb1e2b3ec9b"
      },
      "execution_count": 82,
      "outputs": [
        {
          "output_type": "execute_result",
          "data": {
            "text/plain": [
              "<25x959 sparse matrix of type '<class 'numpy.float64'>'\n",
              "\twith 1247 stored elements in Compressed Sparse Row format>"
            ]
          },
          "metadata": {},
          "execution_count": 82
        }
      ]
    },
    {
      "cell_type": "markdown",
      "source": [
        "Теперь сделаем визуализацию."
      ],
      "metadata": {
        "id": "opYMcexQ-SDA"
      }
    },
    {
      "cell_type": "code",
      "source": [
        "import matplotlib.pyplot as plt"
      ],
      "metadata": {
        "id": "-nLYhz-Z-RLr"
      },
      "execution_count": 83,
      "outputs": []
    },
    {
      "cell_type": "code",
      "source": [
        "# Визуализация 35 слов с наибольшим значением TF-IDF\n",
        "plt.figure(figsize=(15, 7))\n",
        "plt.bar(list(sorted_word_tfidf_dict.keys())[:35], list(sorted_word_tfidf_dict.values())[:35])\n",
        "plt.title('Top 35 words by average TF-IDF')\n",
        "plt.xlabel('Words')\n",
        "plt.ylabel('Average TF-IDF')\n",
        "plt.xticks(rotation=90)\n",
        "plt.show()"
      ],
      "metadata": {
        "colab": {
          "base_uri": "https://localhost:8080/",
          "height": 545
        },
        "id": "Eu32sxxT-clx",
        "outputId": "1d875da8-49ca-4159-c8e4-f9dae1008e37"
      },
      "execution_count": 84,
      "outputs": [
        {
          "output_type": "display_data",
          "data": {
            "text/plain": [
              "<Figure size 1500x700 with 1 Axes>"
            ],
            "image/png": "[encoded data removed]"
          },
          "metadata": {}
        }
      ]
    },
    {
      "cell_type": "markdown",
      "source": [
        "# Тематическре моделирование"
      ],
      "metadata": {
        "id": "1z-Z02sk86sX"
      }
    },
    {
      "cell_type": "code",
      "source": [
        "from sklearn.decomposition import LatentDirichletAllocation\n"
      ],
      "metadata": {
        "id": "vX15eUX4ArdH"
      },
      "execution_count": 85,
      "outputs": []
    },
    {
      "cell_type": "code",
      "source": [
        "# Создание объекта TfidfVectorizer для преобразования отзывов в векторное представление\n",
        "vectorizer = TfidfVectorizer()\n",
        "\n",
        "# Преобразование отзывов в векторное представление с помощью TF-IDF\n",
        "tfidf_matrix = vectorizer.fit_transform([review for review, date in data])\n",
        "\n",
        "# Выберите количество тем (например, 15)\n",
        "num_topics = 15\n",
        "\n",
        "# Создайте объект LDA\n",
        "lda = LatentDirichletAllocation(n_components=num_topics, random_state=42)\n",
        "\n",
        "# Выполните тематическое моделирование данных\n",
        "lda.fit(tfidf_matrix)\n",
        "\n",
        "# Получите темы\n",
        "topics = lda.components_"
      ],
      "metadata": {
        "id": "_VuM0GbJLobc"
      },
      "execution_count": 86,
      "outputs": []
    },
    {
      "cell_type": "code",
      "source": [
        "feature_names = vectorizer.get_feature_names_out()\n",
        "for topic_idx, topic in enumerate(topics):\n",
        "    print(f\"Тема #{topic_idx + 1}:\")\n",
        "    print(\" \".join([feature_names[i] for i in topic.argsort()[:-10 - 1:-1]]))"
      ],
      "metadata": {
        "colab": {
          "base_uri": "https://localhost:8080/"
        },
        "id": "6tOWsnH4F1VL",
        "outputId": "54ca7eb6-515e-4d4a-ee95-82ee7585b6b2"
      },
      "execution_count": 87,
      "outputs": [
        {
          "output_type": "stream",
          "name": "stdout",
          "text": [
            "Тема #1:\n",
            "поможет сняли подписку деньги вернуть предупредить удивлён старте принадлежит интернете\n",
            "Тема #2:\n",
            "подключили клиента согласия денежные ведома услугу средства тинькффф возврат обоснование\n",
            "Тема #3:\n",
            "тиньков пользовалась вообщем самый помогут банками многими всем банка просто\n",
            "Тема #4:\n",
            "кредитную карту яндексплюса поменять понял привязана привязывал варианты яндексплюс автоматически\n",
            "Тема #5:\n",
            "виктора помощи расти обучения персонала проблемы впечатлен меньше вел проверки\n",
            "Тема #6:\n",
            "счёт образец предоставили счета технический почту бюджетную организацию рс имя\n",
            "Тема #7:\n",
            "чат магазине закона негативный анна анне благодарность банк вопросы сотрудника\n",
            "Тема #8:\n",
            "кредит курьер обращение карты течении карту вернули также приходят заявка\n",
            "Тема #9:\n",
            "тинькофф виктория сотрудница расчётный банка счёт решил банк очень цены\n",
            "Тема #10:\n",
            "причиной легкость злоупотреблять особенностями мог тому скриптами карте никак клиентоориентированности\n",
            "Тема #11:\n",
            "убрать звонка ссылке ждать заявку поддержка согласие одобрения своё сделали\n",
            "Тема #12:\n",
            "банк банка вопрос моего который тинькофф чат спасибо чате просто\n",
            "Тема #13:\n",
            "информацию сотрудник банка ответ вопрос счета почему банк тинькофф сумму\n",
            "Тема #14:\n",
            "копии чека кэшбэк магазине деньги обратно услышан здравствуйте менее пришли\n",
            "Тема #15:\n",
            "всё спасибо молодцы быстро баку перевыпустили переводе перевести далее 2024\n"
          ]
        }
      ]
    },
    {
      "cell_type": "markdown",
      "source": [
        "Построем гистограму"
      ],
      "metadata": {
        "id": "OMSJzT0PMekB"
      }
    },
    {
      "cell_type": "code",
      "source": [
        "# Получение метки кластеров для всех отзывов\n",
        "clusters = lda.transform(tfidf_matrix).argmax(axis=1)\n",
        "\n",
        "# Количество отзывов в каждом кластере\n",
        "counts = pd.value_counts(clusters)\n",
        "\n",
        "plt.figure(figsize=(10, 6))\n",
        "plt.bar(counts.index, counts.values, color='b')\n",
        "plt.xlabel('Темы')\n",
        "plt.ylabel('Количество отзывов')\n",
        "plt.title('Распределение отзывов по темам')\n",
        "plt.xticks(range(num_topics))\n",
        "plt.show()"
      ],
      "metadata": {
        "id": "Ltq8QwsPC7HC",
        "colab": {
          "base_uri": "https://localhost:8080/",
          "height": 564
        },
        "outputId": "d8910207-2103-45a1-b7ba-6f935ea97abd"
      },
      "execution_count": 88,
      "outputs": [
        {
          "output_type": "display_data",
          "data": {
            "text/plain": [
              "<Figure size 1000x600 with 1 Axes>"
            ],
            "image/png": "[encoded data removed]"
          },
          "metadata": {}
        }
      ]
    },
    {
      "cell_type": "markdown",
      "source": [
        "# Частотный анализ"
      ],
      "metadata": {
        "id": "HH7rGy_WM6uj"
      }
    },
    {
      "cell_type": "code",
      "source": [
        "from collections import Counter\n"
      ],
      "metadata": {
        "id": "KAy5dkAWM-me"
      },
      "execution_count": 89,
      "outputs": []
    },
    {
      "cell_type": "code",
      "source": [
        "# Объединение всех отзывов в одну строку\n",
        "all_reviews = ' '.join(review for review, date in data)\n",
        "# Удаление всех неалфавитных символов\n",
        "all_reviews = re.sub(r'\\W+', ' ', all_reviews)\n",
        "# Разделение текста на слова\n",
        "words = all_reviews.split()\n",
        "\n",
        "# Частота каждого слова\n",
        "word_freq = Counter(words)\n"
      ],
      "metadata": {
        "id": "OkuZsOH-NC5y"
      },
      "execution_count": 90,
      "outputs": []
    },
    {
      "cell_type": "code",
      "source": [
        "print(word_freq.most_common(10))"
      ],
      "metadata": {
        "colab": {
          "base_uri": "https://localhost:8080/"
        },
        "id": "p54MViwKNOH5",
        "outputId": "ab48c951-e2ca-407a-8cc0-b5737b840cf5"
      },
      "execution_count": 91,
      "outputs": [
        {
          "output_type": "stream",
          "name": "stdout",
          "text": [
            "[('банк', 25), ('тинькофф', 22), ('банка', 15), ('вопрос', 11), ('деньги', 10), ('клиента', 9), ('спасибо', 9), ('счёт', 9), ('очень', 8), ('который', 8)]\n"
          ]
        }
      ]
    },
    {
      "cell_type": "markdown",
      "source": [
        "Построим гистограмму"
      ],
      "metadata": {
        "id": "KI44EsT6NnH8"
      }
    },
    {
      "cell_type": "code",
      "source": [
        "most_common_words = word_freq.most_common(20)\n",
        "\n",
        "\n",
        "words, frequencies = zip(*most_common_words)  # Разделите пары (слово, частота) на два списка\n",
        "plt.figure(figsize=(20, 10))\n",
        "plt.bar(words, frequencies, color='b')\n",
        "plt.xlabel('Слова')\n",
        "plt.ylabel('Частота')\n",
        "plt.title('Топ-20 наиболее часто встречающихся слов')\n",
        "plt.show()"
      ],
      "metadata": {
        "colab": {
          "base_uri": "https://localhost:8080/",
          "height": 498
        },
        "id": "VTE7somCNtha",
        "outputId": "a3c0858d-2e28-4133-d351-688d7d109336"
      },
      "execution_count": 92,
      "outputs": [
        {
          "output_type": "display_data",
          "data": {
            "text/plain": [
              "<Figure size 2000x1000 with 1 Axes>"
            ],
            "image/png": "[encoded data removed]"
          },
          "metadata": {}
        }
      ]
    },
    {
      "cell_type": "markdown",
      "source": [
        "# Анализ аномалий\n",
        "\n",
        "Анализ аномалий - это процесс выявления необычных паттернов, которые отклоняются от ожидаемого поведения. В контексте анализа текста, аномалии могут представлять собой отзывы, которые сильно отличаются от остальных."
      ],
      "metadata": {
        "id": "e4IleUzlOVwb"
      }
    },
    {
      "cell_type": "code",
      "source": [
        "from sklearn.ensemble import IsolationForest"
      ],
      "metadata": {
        "id": "Ill_EkhEO7TU"
      },
      "execution_count": 93,
      "outputs": []
    },
    {
      "cell_type": "code",
      "source": [
        "# Создание объекат IsolationForest\n",
        "clf = IsolationForest(contamination=0.1)\n",
        "\n",
        "# Анализ аномалий\n",
        "preds = clf.fit_predict(tfidf_matrix.toarray())\n",
        "\n",
        "# Отзывы, которые были классифицированы как -1, считаются аномалиями\n",
        "anomalies = [data[i] for i, pred in enumerate(preds) if pred == -1]\n",
        "\n"
      ],
      "metadata": {
        "id": "XltYZZgaO-0b"
      },
      "execution_count": 94,
      "outputs": []
    },
    {
      "cell_type": "code",
      "source": [
        "# Выведите аномальные отзывы\n",
        "for anomaly in anomalies:\n",
        "    print(anomaly)"
      ],
      "metadata": {
        "colab": {
          "base_uri": "https://localhost:8080/"
        },
        "id": "hSZk3ZXyPJkV",
        "outputId": "93d8ce4c-6c73-41fa-81d3-4438a7e18c29"
      },
      "execution_count": 95,
      "outputs": [
        {
          "output_type": "stream",
          "name": "stdout",
          "text": [
            "['августе 2023 года открыла карту мир заранее сообищив карта нужна получения бюджетных выплаты получения карты реквизиты передала бюджетную организацию вчера налог увидела открыто рс второго счета приложении банка видно обратилась чат внятного объяснения получила позвонив горячую линию сообщил счёт технический открыт законно моего заявление ссылаясь закон тк получаю бюджетные выплаты открыла платёжки указан рс который изначально который передан бюджетную организацию изначально карта мир деньги поступали проблем нужен технический счёт непонятно никому деньги зачисляются рс который предоставлен получается технический счёт открыт банком целью получить бонусы мол работаем открыли счёт заплатите нам баллы предположить изначальный счёт бюджетный почему банк предложил закрыть вместо передать бюджетную организацию технический счёт просто сотрудники открытии счетов зарабатывают отправлю жалобу цб возможно дадут нормальное разъяснение этому бреду кроме банковский бот неверно произносит мое имя перезапись отправить хотят хотя банк проблем перезаписал бот правильно ко обращается p отзыв написан страницы мужа', '2024-03-30 08:39:28']\n",
            "['заказал карту тинькофф мобайл приехал курьер выдал карту ок пошли перекрестные продажи спрашивает курьер кредиты сторонних банках говорю курьер давайте посчитаем выгоднее рефинанс сделать говорю кредит оформлялся повышения ключевой ставки курьер равно поедложил ознакомиться проверить итоге дешевле интересно оформляйте ок кончено ставка высокая невыгодные условия стал оформлять захожу домой опа пришло сообщение почту оформили кредит полная стоимость кредита ежемесячный платеж графиком платеже ближайший платеж мае присвоен номер кредитного договора это пятница вечер работы инфаркт шлёпнул потерял несколько часов чате вместо побыть семьёй это крайнн серьезно очень серьезно отношусь кредитам пишу чат отвечают это кредит это заявка бред загуглите вики такое кредит такое заявка личном кабинете отобраюается оформленный кредит заявка говорю кредит отрбрается нбки сообщают прошу пояснить такое одобренная заявка такое оформили кредит которые прошло почту разница итоге ещё нбки светится кредитом пугаете клиентов доводить считаете тупым стадом нелбдями прошу срочно принять меры дать ответы также обращение цб каком основании клиенту приходят такие письма оформлены продукты банка оформлены каком основании портится кредитная история клиента мошенники операторы имеют крайне слабую экспертизу вводят заблуждение клиента могут ответит вопрос', '2024-03-29 22:37:00']\n",
            "['единственный банк который дает чарджбек геморроя хочу дать высокую оценку последних примеров сбермаркет сбермегамаркет грешат добросовестно выполняют работу докладывают товар либо привозят хрен пойми оспорить постфактум практически невозможно ссылаются свои правила требуют проверять привозит курьер спрашиваешь курьера хватает говорит пишите поддержку просто курьер поддержке похер шлет подальше курьеру сказал хватает замкнутый круг тинькофф течении недели рассматривает обращение возвращает недавно сбермаркет умудрился списать карты привязанной тинькофф 30к понятия ноль помощи стороны говорят иди полицию тебе поможем заказ сделан твоего аккаунта доставлен виноват делает тинькофф рассматривает месяц обращение возвращает лучший просто спасибо слову 25 тыс вернул первые дни обращения месяца пришлось ждать 5 тыс болтались месяц итоге вернули обращение сбермаркете висит «рассмотрении» пару месяцев', '2024-03-29 22:24:11']\n"
          ]
        }
      ]
    },
    {
      "cell_type": "markdown",
      "source": [
        "Тут визуально не показать("
      ],
      "metadata": {
        "id": "TXQy-g-JPnVp"
      }
    },
    {
      "cell_type": "markdown",
      "source": [
        "# Анализ настроения"
      ],
      "metadata": {
        "id": "gKGC5qOHQ8XF"
      }
    },
    {
      "cell_type": "code",
      "source": [
        "!pip install pymorphy2"
      ],
      "metadata": {
        "colab": {
          "base_uri": "https://localhost:8080/"
        },
        "id": "9RAThCRnTGHL",
        "outputId": "c530e34c-2dc4-4001-bc05-e86ebc760656"
      },
      "execution_count": 4,
      "outputs": [
        {
          "output_type": "stream",
          "name": "stdout",
          "text": [
            "Collecting pymorphy2\n",
            "  Downloading pymorphy2-0.9.1-py3-none-any.whl (55 kB)\n",
            "\u001b[2K     \u001b[90m━━━━━━━━━━━━━━━━━━━━━━━━━━━━━━━━━━━━━━━━\u001b[0m \u001b[32m55.5/55.5 kB\u001b[0m \u001b[31m1.3 MB/s\u001b[0m eta \u001b[36m0:00:00\u001b[0m\n",
            "\u001b[?25hCollecting dawg-python>=0.7.1 (from pymorphy2)\n",
            "  Downloading DAWG_Python-0.7.2-py2.py3-none-any.whl (11 kB)\n",
            "Collecting pymorphy2-dicts-ru<3.0,>=2.4 (from pymorphy2)\n",
            "  Downloading pymorphy2_dicts_ru-2.4.417127.4579844-py2.py3-none-any.whl (8.2 MB)\n",
            "\u001b[2K     \u001b[90m━━━━━━━━━━━━━━━━━━━━━━━━━━━━━━━━━━━━━━━━\u001b[0m \u001b[32m8.2/8.2 MB\u001b[0m \u001b[31m46.1 MB/s\u001b[0m eta \u001b[36m0:00:00\u001b[0m\n",
            "\u001b[?25hCollecting docopt>=0.6 (from pymorphy2)\n",
            "  Downloading docopt-0.6.2.tar.gz (25 kB)\n",
            "  Preparing metadata (setup.py) ... \u001b[?25l\u001b[?25hdone\n",
            "Building wheels for collected packages: docopt\n",
            "  Building wheel for docopt (setup.py) ... \u001b[?25l\u001b[?25hdone\n",
            "  Created wheel for docopt: filename=docopt-0.6.2-py2.py3-none-any.whl size=13706 sha256=65685cb6f946180b88ca551b65e7cb19d7cef8b846add5b35d3752954d701812\n",
            "  Stored in directory: /root/.cache/pip/wheels/fc/ab/d4/5da2067ac95b36618c629a5f93f809425700506f72c9732fac\n",
            "Successfully built docopt\n",
            "Installing collected packages: pymorphy2-dicts-ru, docopt, dawg-python, pymorphy2\n",
            "Successfully installed dawg-python-0.7.2 docopt-0.6.2 pymorphy2-0.9.1 pymorphy2-dicts-ru-2.4.417127.4579844\n"
          ]
        }
      ]
    },
    {
      "cell_type": "code",
      "source": [
        "from sklearn.feature_extraction.text import TfidfVectorizer\n",
        "from sklearn.linear_model import LogisticRegression\n",
        "from sklearn.model_selection import train_test_split\n",
        "from sklearn.metrics import classification_report\n",
        "from google.colab import drive\n",
        "import pymorphy2\n",
        "import sys\n",
        "import re\n",
        "from scipy.sparse import vstack\n"
      ],
      "metadata": {
        "id": "uuX9KhtwRD8A"
      },
      "execution_count": 96,
      "outputs": []
    },
    {
      "cell_type": "code",
      "source": [
        "drive.mount('/content/drive')"
      ],
      "metadata": {
        "colab": {
          "base_uri": "https://localhost:8080/"
        },
        "id": "c3b8uzlkjFJY",
        "outputId": "8f3aaed9-4417-41ef-c8fb-4eea644d4df1"
      },
      "execution_count": 97,
      "outputs": [
        {
          "output_type": "stream",
          "name": "stdout",
          "text": [
            "Drive already mounted at /content/drive; to attempt to forcibly remount, call drive.mount(\"/content/drive\", force_remount=True).\n"
          ]
        }
      ]
    },
    {
      "cell_type": "code",
      "source": [
        "datasets = '/content/drive/Me Drive/Sirius/datasets.csv'"
      ],
      "metadata": {
        "id": "dNeW8qhdkMn2"
      },
      "execution_count": 98,
      "outputs": []
    },
    {
      "cell_type": "code",
      "source": [
        "maxInt = sys.maxsize\n",
        "\n",
        "while True:\n",
        "\n",
        "    try:\n",
        "        csv.field_size_limit(maxInt)\n",
        "        break\n",
        "    except OverflowError:\n",
        "        maxInt = int(maxInt/10)"
      ],
      "metadata": {
        "id": "hJb-Pp2cqeCu"
      },
      "execution_count": 105,
      "outputs": []
    },
    {
      "cell_type": "code",
      "source": [
        "# Открытие файла и чтение данных\n",
        "with open('datasets.csv', 'r', encoding='ISO-8859-1') as file:\n",
        "    reader = csv.reader(file)\n",
        "    data = list(reader)\n",
        "    df_train = pd.DataFrame(data[1:], columns=data[0])\n",
        "\n",
        "df_test = pd.read_csv(\"processed_reviews.csv\", encoding='utf-8')\n",
        "\n",
        "# Лемматизация с помощью pymorphy2\n",
        "morph = pymorphy2.MorphAnalyzer()\n",
        "df_train['lemmatized_review'] = df_train['text'].apply(lambda x: ' '.join([morph.parse(word)[0].normal_form for word in re.findall('\\w+', str(x))]))\n",
        "\n",
        "# Векторизация TF-IDF\n",
        "vectorizer = TfidfVectorizer()\n",
        "X_train = vectorizer.fit_transform(df_train[\"lemmatized_review\"])\n",
        "\n"
      ],
      "metadata": {
        "id": "V95Va26cRGAn"
      },
      "execution_count": 108,
      "outputs": []
    },
    {
      "cell_type": "code",
      "source": [
        "# Удаление строк с пропущенными значениями\n",
        "df_train = df_train.dropna(subset=['sentiment'])\n",
        "# Удаление последней строки т.к из-за удаление пропущенным значение размерность стала разная\n",
        "if X_train.shape[0] != df_train['sentiment'].shape[0]:\n",
        "    X_train = vstack([X_train[i] for i in range(X_train.shape[0]-1)])\n",
        "# Обучение модели\n",
        "model = LogisticRegression()\n",
        "model.fit(X_train, df_train['sentiment'])\n",
        "\n",
        "# Предсказание настроений\n",
        "df_test['sentiments'] = model.predict(X_test)\n",
        "\n",
        "\n",
        "\n",
        "# Сохранение DataFrame в CSV-файл\n",
        "df_test.to_csv(\"processed_reviews_with_sentiments.csv\", index=False, encoding='utf-8')"
      ],
      "metadata": {
        "colab": {
          "base_uri": "https://localhost:8080/"
        },
        "id": "ztxasfZEasJa",
        "outputId": "e9d547e3-5f9b-4e32-9dad-f0d8f92a74b5"
      },
      "execution_count": 109,
      "outputs": [
        {
          "output_type": "stream",
          "name": "stderr",
          "text": [
            "/usr/local/lib/python3.10/dist-packages/sklearn/linear_model/_logistic.py:458: ConvergenceWarning: lbfgs failed to converge (status=1):\n",
            "STOP: TOTAL NO. of ITERATIONS REACHED LIMIT.\n",
            "\n",
            "Increase the number of iterations (max_iter) or scale the data as shown in:\n",
            "    https://scikit-learn.org/stable/modules/preprocessing.html\n",
            "Please also refer to the documentation for alternative solver options:\n",
            "    https://scikit-learn.org/stable/modules/linear_model.html#logistic-regression\n",
            "  n_iter_i = _check_optimize_result(\n"
          ]
        }
      ]
    }
  ]
}